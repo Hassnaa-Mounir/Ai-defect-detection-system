{
 "cells": [
  {
   "cell_type": "code",
   "execution_count": 6,
   "id": "7e9e7b08",
   "metadata": {},
   "outputs": [],
   "source": [
    "\n",
    "import os\n",
    "import cv2\n",
    "import imgaug.augmenters as iaa     "
   ]
  },
  {
   "cell_type": "code",
   "execution_count": 7,
   "id": "42721975",
   "metadata": {},
   "outputs": [],
   "source": [
    "data_in='/home/ahmed/testAugIn'\n",
    "data_out='/home/ahmed/testAugOut'"
   ]
  },
  {
   "cell_type": "code",
   "execution_count": 8,
   "id": "0a2bc9b5",
   "metadata": {},
   "outputs": [],
   "source": [
    "# define the augmentation pipeline\n",
    "seq = iaa.Sequential([\n",
    "    iaa.Fliplr(0.5), # flip horizontally with 50% probability\n",
    "    iaa.Flipud(0.5), # flip vertically with 50% probability\n",
    "    iaa.Affine(rotate=(-5, 5)), # rotate images by -5 to +5 degrees\n",
    "    iaa.AdditiveGaussianNoise(scale=(0, 0.1*255)), # add Gaussian noise with std dev between 0 and 0.1\n",
    "    iaa.GammaContrast(gamma=(0.5, 1.5)), # adjust gamma by a factor of 0.5 to 1.5\n",
    "    iaa.Sometimes(0.5, iaa.Crop(percent=(0, 0.1))), # crop images by up to 10% with 50% probability\n",
    "])"
   ]
  },
  {
   "cell_type": "code",
   "execution_count": 9,
   "id": "81ce2097",
   "metadata": {},
   "outputs": [],
   "source": [
    "# make sure the output directory exists\n",
    "if not os.path.exists(data_in):\n",
    "    os.makedirs(data_in)"
   ]
  },
  {
   "cell_type": "code",
   "execution_count": 10,
   "id": "bb4def8d",
   "metadata": {},
   "outputs": [],
   "source": [
    "for filename in os.listdir(data_in):\n",
    "    # read the image\n",
    "    img = cv2.imread(os.path.join(data_in, filename))\n",
    "\n",
    "    # apply the augmentation pipeline\n",
    "    augmented_images = seq(images=[img])\n",
    "\n",
    "    # save the augmented images to the output directory\n",
    "    for i, image in enumerate(augmented_images):\n",
    "        cv2.imwrite(os.path.join(data_in, f\"{filename.split('.')[0]}_{i}.jpg\"), image)"
   ]
  },
  {
   "cell_type": "code",
   "execution_count": null,
   "id": "4dee37d2",
   "metadata": {},
   "outputs": [],
   "source": []
  }
 ],
 "metadata": {
  "kernelspec": {
   "display_name": "Python 3 (ipykernel)",
   "language": "python",
   "name": "python3"
  },
  "language_info": {
   "codemirror_mode": {
    "name": "ipython",
    "version": 3
   },
   "file_extension": ".py",
   "mimetype": "text/x-python",
   "name": "python",
   "nbconvert_exporter": "python",
   "pygments_lexer": "ipython3",
   "version": "3.10.6"
  }
 },
 "nbformat": 4,
 "nbformat_minor": 5
}
