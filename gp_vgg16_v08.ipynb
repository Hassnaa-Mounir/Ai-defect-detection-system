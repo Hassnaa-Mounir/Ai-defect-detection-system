{
 "cells": [
  {
   "cell_type": "code",
   "execution_count": 106,
   "metadata": {
    "id": "tps286PiMQfK"
   },
   "outputs": [],
   "source": [
    "# Model Steps:\n",
    "\n",
    "# 1-Training Data\n",
    "# 2-Preprocessing\n",
    "# 3-Arch.\n",
    "# 4-Fine Tune, Pre-trained mode\n",
    "# 5-Optimize Hyperparameters\n",
    "# 6-Evalutaion\n",
    "# 7-Deploy"
   ]
  },
  {
   "cell_type": "code",
   "execution_count": 164,
   "metadata": {},
   "outputs": [],
   "source": [
    "import keras,os\n",
    "from keras.models import Sequential\n",
    "from keras.layers import Dense, Conv2D, MaxPool2D , Flatten\n",
    "from keras.preprocessing.image import ImageDataGenerator\n",
    "import numpy as np\n",
    "from tensorflow.keras import applications\n",
    "import tensorflow as tf"
   ]
  },
  {
   "cell_type": "code",
   "execution_count": 158,
   "metadata": {
    "colab": {
     "base_uri": "https://localhost:8080/"
    },
    "id": "peNclgFhO-Vo",
    "outputId": "a89e027c-ee9c-491d-a942-21ecf63fa0a1"
   },
   "outputs": [],
   "source": [
    "train='D:/Final/Graduation project/datasets/casting_data/casting_data/train'\n",
    "test='D:/Final/Graduation project/datasets/casting_data/casting_data/test'\n",
    "\n",
    "class_names = ['def_front', 'ok_front']\n",
    "folder_names = ['def_aug', 'ok_aug']\n",
    "class_to_folder = dict(zip(range(len(class_names)), folder_names))\n",
    "batch_size = 32\n",
    "img_size = (224, 224)"
   ]
  },
  {
   "cell_type": "code",
   "execution_count": null,
   "metadata": {},
   "outputs": [],
   "source": [
    "\n",
    "# to produce a batches enough for trainning req \n",
    "\n",
    "#it will generate 30* 32 image\n",
    "num_images_to_generate = 30\n",
    "for i in range(num_images_to_generate):\n",
    "    batch = traindata.next()\n",
    "    for j in range(batch_size):\n",
    "        img = batch[0][j]\n",
    "        label = batch[1][j]\n",
    "        class_index = tf.argmax(label).numpy()\n",
    "        folder_path = os.path.join(train, 'defected' if label[0] == 1 else 'good')\n",
    "        save_path = os.path.join(folder_path, f'{class_to_folder[class_index]}_{i}.jpg')\n",
    "        tf.keras.preprocessing.image.save_img(save_path, img)\n",
    "\n",
    "for i in range(num_images_to_generate):\n",
    "    batch = testdata.next()\n",
    "    for j in range(batch_size):\n",
    "        img = batch[0][j]\n",
    "        label = batch[1][j]\n",
    "        class_index = tf.argmax(label).numpy()\n",
    "        folder_path = os.path.join(test, 'predict')\n",
    "        save_path = os.path.join(folder_path, f'{class_to_folder[class_index]}_{i}.jpg')\n",
    "        tf.keras.preprocessing.image.save_img(save_path, img)\n",
    "\n"
   ]
  },
  {
   "cell_type": "code",
   "execution_count": 168,
   "metadata": {
    "colab": {
     "base_uri": "https://localhost:8080/"
    },
    "id": "4puFZIrFMUsS",
    "outputId": "f6ed1818-a49c-4043-bb4f-6cc5e54b9ed9"
   },
   "outputs": [
    {
     "name": "stdout",
     "output_type": "stream",
     "text": [
      "Found 6278 images belonging to 2 classes.\n",
      "Found 1569 images belonging to 2 classes.\n",
      "Found 240 images belonging to 1 classes.\n"
     ]
    }
   ],
   "source": [
    "trdata = ImageDataGenerator(\n",
    "    \trescale = 1 / 255.0,\n",
    "        validation_split = 0.20)\n",
    "\n",
    "traindata = trdata.flow_from_directory(directory=train ,batch_size=32 ,\n",
    "                                       target_size=(224,224), subset='training',\n",
    "                                       shuffle=True,color_mode='rgb',class_mode='categorical')\n",
    "\n",
    "valid_generator = trdata.flow_from_directory(\n",
    "    directory=train,\n",
    "    target_size=(224, 224),\n",
    "    color_mode=\"rgb\",\n",
    "    batch_size=32 ,\n",
    "    class_mode='categorical',\n",
    "    subset='validation',\n",
    "    shuffle=True,\n",
    ")\n",
    "\n",
    "tsdata = ImageDataGenerator(rescale= 1/255.0)\n",
    "testdata = tsdata.flow_from_directory(directory=test, target_size=(224,224),color_mode='rgb',\n",
    "                                      batch_size=1,class_mode=None,shuffle=False)\n",
    "\n",
    "\n",
    "\n",
    "#validation_dataset = tf.data.Dataset.from_tensor_slices((val_images, val_labels))\n",
    "#valid_generator = valid_generator.batch(3).repeat()\n",
    "\n"
   ]
  },
  {
   "cell_type": "code",
   "execution_count": 169,
   "metadata": {
    "id": "Hrd37D23MVCG"
   },
   "outputs": [],
   "source": [
    "VGG = keras.applications.vgg16.VGG16(input_shape=(224,224,3), include_top = False, weights='imagenet')"
   ]
  },
  {
   "cell_type": "code",
   "execution_count": 170,
   "metadata": {
    "id": "xAcn2PoAMVGz"
   },
   "outputs": [],
   "source": [
    "VGG.trainable = False\n",
    "#Not train the front 13 layers, train only last two layers"
   ]
  },
  {
   "cell_type": "code",
   "execution_count": 171,
   "metadata": {
    "id": "5hNChEtFQg34"
   },
   "outputs": [],
   "source": [
    "model = keras.Sequential([\n",
    "    VGG,\n",
    "    keras.layers.Flatten(),\n",
    "    keras.layers.Dense(units=256, activation=\"relu\"),\n",
    "    keras.layers.Dense(units=256, activation=\"relu\"),\n",
    "    keras.layers.Dense(units=2, activation=\"softmax\"), \n",
    "])"
   ]
  },
  {
   "cell_type": "code",
   "execution_count": 172,
   "metadata": {},
   "outputs": [],
   "source": [
    "model.compile(optimizer='adam', loss=keras.losses.categorical_crossentropy, metrics=['accuracy'])"
   ]
  },
  {
   "cell_type": "code",
   "execution_count": 173,
   "metadata": {
    "colab": {
     "base_uri": "https://localhost:8080/"
    },
    "id": "Yvew23cEQo2y",
    "outputId": "9b065162-23f8-4ee8-fdaf-f36a9c597f3e"
   },
   "outputs": [
    {
     "name": "stdout",
     "output_type": "stream",
     "text": [
      "Model: \"sequential_8\"\n",
      "_________________________________________________________________\n",
      " Layer (type)                Output Shape              Param #   \n",
      "=================================================================\n",
      " vgg16 (Functional)          (None, 7, 7, 512)         14714688  \n",
      "                                                                 \n",
      " flatten_8 (Flatten)         (None, 25088)             0         \n",
      "                                                                 \n",
      " dense_24 (Dense)            (None, 256)               6422784   \n",
      "                                                                 \n",
      " dense_25 (Dense)            (None, 256)               65792     \n",
      "                                                                 \n",
      " dense_26 (Dense)            (None, 2)                 514       \n",
      "                                                                 \n",
      "=================================================================\n",
      "Total params: 21,203,778\n",
      "Trainable params: 6,489,090\n",
      "Non-trainable params: 14,714,688\n",
      "_________________________________________________________________\n"
     ]
    }
   ],
   "source": [
    "model.summary()"
   ]
  },
  {
   "cell_type": "code",
   "execution_count": 174,
   "metadata": {},
   "outputs": [
    {
     "name": "stdout",
     "output_type": "stream",
     "text": [
      "Epoch 1/5\n",
      "196/196 [==============================] - 1864s 10s/step - loss: 0.2971 - accuracy: 0.8935 - val_loss: 0.0567 - val_accuracy: 0.9866\n",
      "Epoch 2/5\n",
      "196/196 [==============================] - 1835s 9s/step - loss: 0.0590 - accuracy: 0.9808 - val_loss: 0.0260 - val_accuracy: 0.9949\n",
      "Epoch 3/5\n",
      "196/196 [==============================] - 1773s 9s/step - loss: 0.0539 - accuracy: 0.9829 - val_loss: 0.0781 - val_accuracy: 0.9751\n",
      "Epoch 4/5\n",
      "196/196 [==============================] - 1814s 9s/step - loss: 0.0310 - accuracy: 0.9914 - val_loss: 0.0202 - val_accuracy: 0.9955\n",
      "Epoch 5/5\n",
      "196/196 [==============================] - 1798s 9s/step - loss: 0.0311 - accuracy: 0.9904 - val_loss: 0.0229 - val_accuracy: 0.9949\n"
     ]
    }
   ],
   "source": [
    "hist = model.fit(traindata , steps_per_epoch = 196   , epochs = 5 , #traindata.n \n",
    "                           validation_data = valid_generator, validation_steps = 49)\n",
    "model.save('vggclf_v5.h5')\n",
    "\n",
    "\n",
    "# Your input ran out of data; interrupting training. Make sure that your \n",
    "#dataset or generator can generate at least `steps_per_epoch * epochs` batches \n",
    "# image data generator should generate at least 195*10 = 1950 so if i set batch size to 32 so i need a \n",
    "# 6230 / 32 = 195 batch to go through entire data set  "
   ]
  },
  {
   "cell_type": "code",
   "execution_count": 175,
   "metadata": {
    "scrolled": true
   },
   "outputs": [
    {
     "name": "stdout",
     "output_type": "stream",
     "text": [
      "50/50 [==============================] - 337s 7s/step - loss: 0.0229 - accuracy: 0.9949\n"
     ]
    },
    {
     "data": {
      "text/plain": [
       "[0.022895874455571175, 0.9949012398719788]"
      ]
     },
     "execution_count": 175,
     "metadata": {},
     "output_type": "execute_result"
    }
   ],
   "source": [
    "model.evaluate(valid_generator)"
   ]
  },
  {
   "cell_type": "code",
   "execution_count": 176,
   "metadata": {
    "colab": {
     "base_uri": "https://localhost:8080/",
     "height": 295
    },
    "id": "0QlpSAM3Q9T4",
    "outputId": "2624e297-92f0-4299-f381-4357277646ee"
   },
   "outputs": [
    {
     "data": {
      "image/png": "[encoded data removed]",
      "text/plain": [
       "<Figure size 640x480 with 1 Axes>"
      ]
     },
     "metadata": {},
     "output_type": "display_data"
    }
   ],
   "source": [
    "\n",
    "import matplotlib.pyplot as plt\n",
    "plt.plot(hist.history['accuracy'])\n",
    "plt.plot(hist.history['val_accuracy'])\n",
    "plt.plot(hist.history['loss'])\n",
    "plt.plot(hist.history['val_loss'])\n",
    "plt.title(\"model accuracy\")\n",
    "plt.ylabel(\"Accuracy\")\n",
    "plt.xlabel(\"Epoch\")\n",
    "plt.legend([\"Accuracy\",\"Validation Accuracy\",\"loss\",\"Validation Loss\"])\n",
    "plt.show()\n"
   ]
  },
  {
   "cell_type": "code",
   "execution_count": 177,
   "metadata": {},
   "outputs": [
    {
     "name": "stdout",
     "output_type": "stream",
     "text": [
      "240/240 [==============================] - 68s 284ms/step\n"
     ]
    },
    {
     "data": {
      "text/plain": [
       "array([[1.00000000e+00, 1.36552614e-09],\n",
       "       [9.99999762e-01, 2.33469962e-07],\n",
       "       [9.97740984e-01, 2.25897436e-03],\n",
       "       [9.99426484e-01, 5.73581667e-04],\n",
       "       [1.00000000e+00, 3.48298335e-10],\n",
       "       [1.00000000e+00, 1.04021947e-09],\n",
       "       [9.00072753e-01, 9.99271870e-02],\n",
       "       [9.99977827e-01, 2.21525661e-05],\n",
       "       [9.99751151e-01, 2.48902914e-04],\n",
       "       [1.00000000e+00, 5.99224137e-09],\n",
       "       [9.99995828e-01, 4.21133154e-06],\n",
       "       [1.08102575e-01, 8.91897380e-01],\n",
       "       [9.99998927e-01, 1.04699075e-06],\n",
       "       [1.00000000e+00, 8.63174879e-11],\n",
       "       [9.99999642e-01, 3.24852664e-07],\n",
       "       [9.99944925e-01, 5.51031990e-05],\n",
       "       [9.99472797e-01, 5.27213502e-04],\n",
       "       [1.00000000e+00, 1.91895140e-08],\n",
       "       [9.99940515e-01, 5.94614139e-05],\n",
       "       [9.99928474e-01, 7.15617716e-05],\n",
       "       [9.99988556e-01, 1.14417071e-05],\n",
       "       [1.00000000e+00, 2.64626810e-11],\n",
       "       [1.00000000e+00, 5.58492705e-12],\n",
       "       [9.99994397e-01, 5.54805047e-06],\n",
       "       [9.99976635e-01, 2.33442970e-05],\n",
       "       [1.00000000e+00, 1.91926164e-09],\n",
       "       [9.99934554e-01, 6.53975585e-05],\n",
       "       [9.99999762e-01, 2.00963726e-07],\n",
       "       [9.99802411e-01, 1.97562156e-04],\n",
       "       [1.00000000e+00, 3.22074756e-10],\n",
       "       [9.99910593e-01, 8.94524128e-05],\n",
       "       [9.99999166e-01, 7.98747351e-07],\n",
       "       [1.00000000e+00, 1.00159735e-12],\n",
       "       [1.00000000e+00, 2.46686255e-10],\n",
       "       [9.99997258e-01, 2.79580195e-06],\n",
       "       [1.00000000e+00, 3.91406338e-08],\n",
       "       [9.99999523e-01, 4.90813704e-07],\n",
       "       [9.99996424e-01, 3.56186979e-06],\n",
       "       [9.92607117e-01, 7.39283813e-03],\n",
       "       [1.00000000e+00, 2.02428225e-08],\n",
       "       [9.99931335e-01, 6.86958301e-05],\n",
       "       [1.00000000e+00, 1.62904037e-08],\n",
       "       [9.99990582e-01, 9.45198099e-06],\n",
       "       [9.99999881e-01, 1.49740615e-07],\n",
       "       [9.99999762e-01, 2.42931065e-07],\n",
       "       [9.99999046e-01, 9.36788865e-07],\n",
       "       [9.99999762e-01, 1.88770116e-07],\n",
       "       [9.99860883e-01, 1.39138734e-04],\n",
       "       [9.99999285e-01, 7.08299240e-07],\n",
       "       [1.00000000e+00, 1.57881686e-09],\n",
       "       [1.00000000e+00, 6.58334898e-09],\n",
       "       [9.99937057e-01, 6.29096539e-05],\n",
       "       [1.00000000e+00, 2.93310176e-09],\n",
       "       [1.00000000e+00, 1.14146380e-10],\n",
       "       [1.00000000e+00, 1.50372137e-09],\n",
       "       [9.98715997e-01, 1.28402386e-03],\n",
       "       [1.00000000e+00, 1.97651122e-08],\n",
       "       [9.99790013e-01, 2.10027632e-04],\n",
       "       [1.00000000e+00, 5.80976289e-09],\n",
       "       [9.99891639e-01, 1.08318811e-04],\n",
       "       [9.99914289e-01, 8.56481565e-05],\n",
       "       [1.00000000e+00, 2.85237417e-10],\n",
       "       [1.00000000e+00, 8.32522495e-10],\n",
       "       [9.99995589e-01, 4.45848218e-06],\n",
       "       [1.00000000e+00, 3.58247387e-09],\n",
       "       [9.99960542e-01, 3.94526687e-05],\n",
       "       [9.99862790e-01, 1.37192721e-04],\n",
       "       [9.99986172e-01, 1.37964307e-05],\n",
       "       [9.98104453e-01, 1.89557718e-03],\n",
       "       [1.00000000e+00, 5.40361200e-10],\n",
       "       [1.00000000e+00, 4.83721847e-11],\n",
       "       [9.99998927e-01, 1.09202460e-06],\n",
       "       [9.99608815e-01, 3.91220849e-04],\n",
       "       [9.32720900e-01, 6.72791749e-02],\n",
       "       [1.00000000e+00, 5.75042094e-08],\n",
       "       [9.99997973e-01, 1.99960732e-06],\n",
       "       [1.00000000e+00, 1.16524554e-10],\n",
       "       [9.99389172e-01, 6.10832125e-04],\n",
       "       [1.00000000e+00, 1.50518403e-10],\n",
       "       [9.99842405e-01, 1.57573231e-04],\n",
       "       [9.99904275e-01, 9.57721641e-05],\n",
       "       [9.99691725e-01, 3.08285758e-04],\n",
       "       [9.99703348e-01, 2.96638726e-04],\n",
       "       [1.00000000e+00, 2.83604910e-11],\n",
       "       [1.00000000e+00, 2.37935976e-10],\n",
       "       [9.99149203e-01, 8.50739132e-04],\n",
       "       [9.99999881e-01, 9.66416351e-08],\n",
       "       [1.00000000e+00, 3.25246141e-09],\n",
       "       [9.99996901e-01, 3.07737332e-06],\n",
       "       [9.99999046e-01, 9.60656394e-07],\n",
       "       [9.99999881e-01, 1.21305746e-07],\n",
       "       [9.99999881e-01, 1.51462942e-07],\n",
       "       [6.46684766e-01, 3.53315234e-01],\n",
       "       [9.99999523e-01, 4.63005904e-07],\n",
       "       [1.00000000e+00, 1.29685762e-09],\n",
       "       [1.00000000e+00, 2.83447155e-10],\n",
       "       [9.99984264e-01, 1.57872892e-05],\n",
       "       [9.99999166e-01, 8.73825627e-07],\n",
       "       [9.98985708e-01, 1.01422437e-03],\n",
       "       [9.99996662e-01, 3.37831784e-06],\n",
       "       [9.99999404e-01, 6.08607422e-07],\n",
       "       [9.99651909e-01, 3.48148606e-04],\n",
       "       [1.00000000e+00, 2.19270602e-09],\n",
       "       [9.99995232e-01, 4.76269952e-06],\n",
       "       [1.00000000e+00, 2.00416661e-08],\n",
       "       [9.99999881e-01, 6.59036203e-08],\n",
       "       [9.99997139e-01, 2.86182922e-06],\n",
       "       [1.00000000e+00, 2.35353088e-08],\n",
       "       [4.47477709e-04, 9.99552548e-01],\n",
       "       [8.24493472e-04, 9.99175489e-01],\n",
       "       [2.14863758e-04, 9.99785125e-01],\n",
       "       [7.54360881e-05, 9.99924541e-01],\n",
       "       [2.74837087e-03, 9.97251570e-01],\n",
       "       [8.28824821e-04, 9.99171257e-01],\n",
       "       [1.42369315e-03, 9.98576283e-01],\n",
       "       [2.91542616e-04, 9.99708474e-01],\n",
       "       [1.86890061e-03, 9.98131096e-01],\n",
       "       [4.18979349e-03, 9.95810270e-01],\n",
       "       [7.36383008e-05, 9.99926329e-01],\n",
       "       [1.55428555e-04, 9.99844551e-01],\n",
       "       [7.13522255e-04, 9.99286473e-01],\n",
       "       [2.59041612e-04, 9.99740899e-01],\n",
       "       [1.64625177e-04, 9.99835372e-01],\n",
       "       [3.39537983e-05, 9.99966025e-01],\n",
       "       [6.87302439e-04, 9.99312758e-01],\n",
       "       [1.38664036e-04, 9.99861360e-01],\n",
       "       [1.22053945e-03, 9.98779476e-01],\n",
       "       [5.21584356e-04, 9.99478400e-01],\n",
       "       [3.65064596e-04, 9.99634862e-01],\n",
       "       [6.99349795e-04, 9.99300599e-01],\n",
       "       [3.16024758e-04, 9.99683976e-01],\n",
       "       [6.66228530e-04, 9.99333799e-01],\n",
       "       [9.84932776e-05, 9.99901533e-01],\n",
       "       [9.54129326e-04, 9.99045908e-01],\n",
       "       [6.26572466e-04, 9.99373496e-01],\n",
       "       [1.40102636e-02, 9.85989690e-01],\n",
       "       [4.15658607e-04, 9.99584377e-01],\n",
       "       [3.51764890e-03, 9.96482372e-01],\n",
       "       [5.92207070e-04, 9.99407768e-01],\n",
       "       [1.28878187e-03, 9.98711228e-01],\n",
       "       [7.38964649e-04, 9.99261081e-01],\n",
       "       [1.26685330e-03, 9.98733103e-01],\n",
       "       [3.26411828e-04, 9.99673605e-01],\n",
       "       [1.25629017e-02, 9.87437129e-01],\n",
       "       [2.31664861e-03, 9.97683287e-01],\n",
       "       [1.13318405e-04, 9.99886632e-01],\n",
       "       [2.53313308e-04, 9.99746740e-01],\n",
       "       [4.03782236e-04, 9.99596179e-01],\n",
       "       [3.39048286e-03, 9.96609569e-01],\n",
       "       [1.24565326e-04, 9.99875426e-01],\n",
       "       [1.73068067e-04, 9.99826968e-01],\n",
       "       [2.61734764e-04, 9.99738276e-01],\n",
       "       [5.63659996e-04, 9.99436319e-01],\n",
       "       [5.05044765e-04, 9.99494910e-01],\n",
       "       [3.18076869e-04, 9.99681950e-01],\n",
       "       [2.65283918e-04, 9.99734700e-01],\n",
       "       [7.77513487e-04, 9.99222517e-01],\n",
       "       [1.28743914e-03, 9.98712540e-01],\n",
       "       [3.50889692e-04, 9.99649048e-01],\n",
       "       [1.62038545e-03, 9.98379588e-01],\n",
       "       [2.76798412e-04, 9.99723136e-01],\n",
       "       [2.06080382e-03, 9.97939169e-01],\n",
       "       [1.16490619e-03, 9.98835146e-01],\n",
       "       [6.56427233e-04, 9.99343574e-01],\n",
       "       [6.13233424e-04, 9.99386787e-01],\n",
       "       [1.50120279e-04, 9.99849916e-01],\n",
       "       [2.27990956e-03, 9.97720063e-01],\n",
       "       [1.65514764e-04, 9.99834418e-01],\n",
       "       [3.35677032e-04, 9.99664307e-01],\n",
       "       [2.20704605e-04, 9.99779284e-01],\n",
       "       [5.27500059e-04, 9.99472558e-01],\n",
       "       [3.31975264e-03, 9.96680260e-01],\n",
       "       [5.43600705e-04, 9.99456346e-01],\n",
       "       [1.64791651e-04, 9.99835134e-01],\n",
       "       [2.20295697e-04, 9.99779761e-01],\n",
       "       [2.53854413e-03, 9.97461438e-01],\n",
       "       [1.92299706e-03, 9.98077035e-01],\n",
       "       [2.63004506e-04, 9.99736965e-01],\n",
       "       [3.37077450e-04, 9.99662876e-01],\n",
       "       [3.40235652e-04, 9.99659777e-01],\n",
       "       [3.67705536e-04, 9.99632239e-01],\n",
       "       [4.20926575e-04, 9.99579132e-01],\n",
       "       [3.14538716e-04, 9.99685526e-01],\n",
       "       [2.36162829e-04, 9.99763787e-01],\n",
       "       [5.45338495e-04, 9.99454677e-01],\n",
       "       [2.43388047e-03, 9.97566104e-01],\n",
       "       [3.33637377e-04, 9.99666333e-01],\n",
       "       [4.84370627e-03, 9.95156288e-01],\n",
       "       [5.09671168e-04, 9.99490261e-01],\n",
       "       [9.56111980e-05, 9.99904394e-01],\n",
       "       [7.30323431e-04, 9.99269664e-01],\n",
       "       [4.82910720e-04, 9.99517083e-01],\n",
       "       [4.27225808e-04, 9.99572814e-01],\n",
       "       [1.31076784e-04, 9.99868870e-01],\n",
       "       [8.61686829e-04, 9.99138236e-01],\n",
       "       [3.45475448e-04, 9.99654531e-01],\n",
       "       [1.81508076e-04, 9.99818504e-01],\n",
       "       [2.82951840e-03, 9.97170508e-01],\n",
       "       [1.27578166e-03, 9.98724163e-01],\n",
       "       [2.09523574e-03, 9.97904778e-01],\n",
       "       [3.35507822e-04, 9.99664545e-01],\n",
       "       [3.43299890e-03, 9.96567011e-01],\n",
       "       [4.15179005e-04, 9.99584854e-01],\n",
       "       [8.74466859e-05, 9.99912500e-01],\n",
       "       [2.67548603e-03, 9.97324467e-01],\n",
       "       [2.06757541e-04, 9.99793231e-01],\n",
       "       [1.50806503e-04, 9.99849200e-01],\n",
       "       [8.30471108e-04, 9.99169588e-01],\n",
       "       [1.03082992e-02, 9.89691675e-01],\n",
       "       [7.53917685e-03, 9.92460787e-01],\n",
       "       [6.71404239e-04, 9.99328613e-01],\n",
       "       [1.32495770e-04, 9.99867439e-01],\n",
       "       [1.66553224e-03, 9.98334467e-01],\n",
       "       [9.92296846e-04, 9.99007761e-01],\n",
       "       [3.36878933e-04, 9.99663115e-01],\n",
       "       [1.47586208e-04, 9.99852419e-01],\n",
       "       [7.38161558e-04, 9.99261796e-01],\n",
       "       [1.14994938e-03, 9.98849988e-01],\n",
       "       [3.74273077e-04, 9.99625683e-01],\n",
       "       [4.46514518e-04, 9.99553502e-01],\n",
       "       [6.24308479e-04, 9.99375761e-01],\n",
       "       [1.15968641e-02, 9.88403141e-01],\n",
       "       [8.99754697e-04, 9.99100327e-01],\n",
       "       [5.91884658e-04, 9.99408126e-01],\n",
       "       [3.08564259e-03, 9.96914387e-01],\n",
       "       [5.35225437e-04, 9.99464810e-01],\n",
       "       [7.60388386e-04, 9.99239683e-01],\n",
       "       [1.54139625e-03, 9.98458624e-01],\n",
       "       [1.54729278e-04, 9.99845266e-01],\n",
       "       [1.88410995e-04, 9.99811590e-01],\n",
       "       [2.19677552e-03, 9.97803271e-01],\n",
       "       [5.91567426e-04, 9.99408484e-01],\n",
       "       [2.81043845e-04, 9.99718964e-01],\n",
       "       [7.34651985e-04, 9.99265373e-01],\n",
       "       [8.88128940e-04, 9.99111831e-01],\n",
       "       [1.68664497e-04, 9.99831319e-01],\n",
       "       [1.28191416e-04, 9.99871850e-01],\n",
       "       [2.81692774e-04, 9.99718249e-01],\n",
       "       [8.28252349e-04, 9.99171734e-01],\n",
       "       [5.22891001e-04, 9.99477088e-01]], dtype=float32)"
      ]
     },
     "execution_count": 177,
     "metadata": {},
     "output_type": "execute_result"
    }
   ],
   "source": [
    "pred = model.predict(testdata,steps = testdata.n, verbose = 1)\n",
    "\n",
    "pred"
   ]
  },
  {
   "cell_type": "code",
   "execution_count": 178,
   "metadata": {
    "colab": {
     "base_uri": "https://localhost:8080/",
     "height": 304
    },
    "id": "qyFUJuQnUmTg",
    "outputId": "6b364f7d-2ed9-4bf1-ad24-092dc9d0821c",
    "scrolled": true
   },
   "outputs": [
    {
     "data": {
      "image/png": "[encoded data removed]",
      "text/plain": [
       "<Figure size 640x480 with 1 Axes>"
      ]
     },
     "metadata": {},
     "output_type": "display_data"
    }
   ],
   "source": [
    "from keras.preprocessing import image\n",
    "img = keras.utils.load_img(\"D:/Final/Graduation project/datasets/12.png\",target_size=(224,224))\n",
    "img = np.asarray(img)\n",
    "\n",
    "\n",
    "plt.imshow(img)\n",
    "img = np.expand_dims(img, axis=0)"
   ]
  },
  {
   "cell_type": "code",
   "execution_count": 179,
   "metadata": {},
   "outputs": [
    {
     "name": "stdout",
     "output_type": "stream",
     "text": [
      "1/1 [==============================] - 1s 620ms/step\n",
      "good\n",
      "[[0. 1.]]\n"
     ]
    }
   ],
   "source": [
    "from keras.models import load_model\n",
    "saved_model = load_model(\"vggclf_v5.h5\")\n"
   ]
  },
  {
   "cell_type": "code",
   "execution_count": 181,
   "metadata": {},
   "outputs": [
    {
     "name": "stdout",
     "output_type": "stream",
     "text": [
      "1/1 [==============================] - 0s 268ms/step\n",
      "good\n",
      "[[0. 1.]]\n"
     ]
    }
   ],
   "source": [
    "output = model.predict(img)\n",
    "if output[0][0] > output[0][1]:\n",
    "    print(\"defected\")\n",
    "    print(output)\n",
    "else:\n",
    "    print(\"good\")\n",
    "    print(output)"
   ]
  },
  {
   "cell_type": "code",
   "execution_count": 182,
   "metadata": {},
   "outputs": [
    {
     "name": "stdout",
     "output_type": "stream",
     "text": [
      "Keras weights file (<HDF5 file \"variables.h5\" (mode r+)>) saving:\n",
      "...layers\\dense\n",
      "......vars\n",
      ".........0\n",
      ".........1\n",
      "...layers\\dense_1\n",
      "......vars\n",
      ".........0\n",
      ".........1\n",
      "...layers\\dense_2\n",
      "......vars\n",
      ".........0\n",
      ".........1\n",
      "...layers\\flatten\n",
      "......vars\n",
      "...layers\\functional\n",
      "......vars\n",
      "...layers\\functional\\layers\\conv2d\n",
      "......vars\n",
      ".........0\n",
      ".........1\n",
      "...layers\\functional\\layers\\conv2d_1\n",
      "......vars\n",
      ".........0\n",
      ".........1\n",
      "...layers\\functional\\layers\\conv2d_10\n",
      "......vars\n",
      ".........0\n",
      ".........1\n",
      "...layers\\functional\\layers\\conv2d_11\n",
      "......vars\n",
      ".........0\n",
      ".........1\n",
      "...layers\\functional\\layers\\conv2d_12\n",
      "......vars\n",
      ".........0\n",
      ".........1\n",
      "...layers\\functional\\layers\\conv2d_2\n",
      "......vars\n",
      ".........0\n",
      ".........1\n",
      "...layers\\functional\\layers\\conv2d_3\n",
      "......vars\n",
      ".........0\n",
      ".........1\n",
      "...layers\\functional\\layers\\conv2d_4\n",
      "......vars\n",
      ".........0\n",
      ".........1\n",
      "...layers\\functional\\layers\\conv2d_5\n",
      "......vars\n",
      ".........0\n",
      ".........1\n",
      "...layers\\functional\\layers\\conv2d_6\n",
      "......vars\n",
      ".........0\n",
      ".........1\n",
      "...layers\\functional\\layers\\conv2d_7\n",
      "......vars\n",
      ".........0\n",
      ".........1\n",
      "...layers\\functional\\layers\\conv2d_8\n",
      "......vars\n",
      ".........0\n",
      ".........1\n",
      "...layers\\functional\\layers\\conv2d_9\n",
      "......vars\n",
      ".........0\n",
      ".........1\n",
      "...layers\\functional\\layers\\input_layer\n",
      "......vars\n",
      "...layers\\functional\\layers\\max_pooling2d\n",
      "......vars\n",
      "...layers\\functional\\layers\\max_pooling2d_1\n",
      "......vars\n",
      "...layers\\functional\\layers\\max_pooling2d_2\n",
      "......vars\n",
      "...layers\\functional\\layers\\max_pooling2d_3\n",
      "......vars\n",
      "...layers\\functional\\layers\\max_pooling2d_4\n",
      "......vars\n",
      "...metrics\\mean\n",
      "......vars\n",
      ".........0\n",
      ".........1\n",
      "...metrics\\mean_metric_wrapper\n",
      "......vars\n",
      ".........0\n",
      ".........1\n",
      "...optimizer\n",
      "......vars\n",
      ".........0\n",
      ".........1\n",
      ".........10\n",
      ".........11\n",
      ".........12\n",
      ".........2\n",
      ".........3\n",
      ".........4\n",
      ".........5\n",
      ".........6\n",
      ".........7\n",
      ".........8\n",
      ".........9\n",
      "...vars\n",
      "Keras model archive saving:\n",
      "File Name                                             Modified             Size\n",
      "config.json                                    2023-04-30 15:57:11        12096\n",
      "metadata.json                                  2023-04-30 15:57:11           64\n",
      "variables.h5                                   2023-04-30 15:57:12    136800896\n",
      "Keras model archive loading:\n",
      "File Name                                             Modified             Size\n",
      "config.json                                    2023-04-30 15:57:10        12096\n",
      "metadata.json                                  2023-04-30 15:57:10           64\n",
      "variables.h5                                   2023-04-30 15:57:12    136800896\n",
      "Keras weights file (<HDF5 file \"variables.h5\" (mode r)>) loading:\n",
      "...layers\\dense\n",
      "......vars\n",
      ".........0\n",
      ".........1\n",
      "...layers\\dense_1\n",
      "......vars\n",
      ".........0\n",
      ".........1\n",
      "...layers\\dense_2\n",
      "......vars\n",
      ".........0\n",
      ".........1\n",
      "...layers\\flatten\n",
      "......vars\n",
      "...layers\\functional\n",
      "......vars\n",
      "...layers\\functional\\layers\\conv2d\n",
      "......vars\n",
      ".........0\n",
      ".........1\n",
      "...layers\\functional\\layers\\conv2d_1\n",
      "......vars\n",
      ".........0\n",
      ".........1\n",
      "...layers\\functional\\layers\\conv2d_10\n",
      "......vars\n",
      ".........0\n",
      ".........1\n",
      "...layers\\functional\\layers\\conv2d_11\n",
      "......vars\n",
      ".........0\n",
      ".........1\n",
      "...layers\\functional\\layers\\conv2d_12\n",
      "......vars\n",
      ".........0\n",
      ".........1\n",
      "...layers\\functional\\layers\\conv2d_2\n",
      "......vars\n",
      ".........0\n",
      ".........1\n",
      "...layers\\functional\\layers\\conv2d_3\n",
      "......vars\n",
      ".........0\n",
      ".........1\n",
      "...layers\\functional\\layers\\conv2d_4\n",
      "......vars\n",
      ".........0\n",
      ".........1\n",
      "...layers\\functional\\layers\\conv2d_5\n",
      "......vars\n",
      ".........0\n",
      ".........1\n",
      "...layers\\functional\\layers\\conv2d_6\n",
      "......vars\n",
      ".........0\n",
      ".........1\n",
      "...layers\\functional\\layers\\conv2d_7\n",
      "......vars\n",
      ".........0\n",
      ".........1\n",
      "...layers\\functional\\layers\\conv2d_8\n",
      "......vars\n",
      ".........0\n",
      ".........1\n",
      "...layers\\functional\\layers\\conv2d_9\n",
      "......vars\n",
      ".........0\n",
      ".........1\n",
      "...layers\\functional\\layers\\input_layer\n",
      "......vars\n",
      "...layers\\functional\\layers\\max_pooling2d\n",
      "......vars\n",
      "...layers\\functional\\layers\\max_pooling2d_1\n",
      "......vars\n",
      "...layers\\functional\\layers\\max_pooling2d_2\n",
      "......vars\n",
      "...layers\\functional\\layers\\max_pooling2d_3\n",
      "......vars\n",
      "...layers\\functional\\layers\\max_pooling2d_4\n",
      "......vars\n",
      "...metrics\\mean\n",
      "......vars\n",
      ".........0\n",
      ".........1\n",
      "...metrics\\mean_metric_wrapper\n",
      "......vars\n",
      ".........0\n",
      ".........1\n",
      "...optimizer\n",
      "......vars\n",
      ".........0\n",
      ".........1\n",
      ".........10\n",
      ".........11\n",
      ".........12\n",
      ".........2\n",
      ".........3\n",
      ".........4\n",
      ".........5\n",
      ".........6\n",
      ".........7\n",
      ".........8\n",
      ".........9\n",
      "...vars\n"
     ]
    }
   ],
   "source": [
    "import pickle\n",
    "  \n",
    "# Save the trained model as a pickle string.\n",
    "saved_model = pickle.dumps(model)\n",
    "model_from_pickle = pickle.loads(saved_model)\n"
   ]
  },
  {
   "cell_type": "code",
   "execution_count": null,
   "metadata": {},
   "outputs": [],
   "source": []
  },
  {
   "cell_type": "code",
   "execution_count": null,
   "metadata": {},
   "outputs": [],
   "source": []
  }
 ],
 "metadata": {
  "colab": {
   "provenance": []
  },
  "kernelspec": {
   "display_name": "Python 3 (ipykernel)",
   "language": "python",
   "name": "python3"
  },
  "language_info": {
   "codemirror_mode": {
    "name": "ipython",
    "version": 3
   },
   "file_extension": ".py",
   "mimetype": "text/x-python",
   "name": "python",
   "nbconvert_exporter": "python",
   "pygments_lexer": "ipython3",
   "version": "3.9.13"
  }
 },
 "nbformat": 4,
 "nbformat_minor": 1
}
